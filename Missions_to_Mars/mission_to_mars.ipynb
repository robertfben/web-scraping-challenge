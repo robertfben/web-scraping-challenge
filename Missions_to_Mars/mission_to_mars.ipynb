{
 "cells": [
  {
   "cell_type": "code",
   "execution_count": 1,
   "id": "28d6f423",
   "metadata": {},
   "outputs": [],
   "source": [
    "# import dependencies\n",
    "from splinter import Browser\n",
    "from bs4 import BeautifulSoup as bs\n",
    "import time\n",
    "from webdriver_manager.chrome import ChromeDriverManager\n",
    "import pandas as pd\n",
    "# import re\n",
    "# from selenium import webdriver"
   ]
  },
  {
   "cell_type": "code",
   "execution_count": 2,
   "id": "a81b6a29",
   "metadata": {},
   "outputs": [],
   "source": [
    "# create function to scrape the mars news site for latest news title and paragraph headline\n",
    "def mars_news_scrape():\n",
    "    # set up splinter\n",
    "    executable_path = {'executable_path': ChromeDriverManager().install()}\n",
    "    browser = Browser('chrome', **executable_path, headless=False)\n",
    "    \n",
    "    # visit mars news site\n",
    "    url = 'https://redplanetscience.com/'\n",
    "    browser.visit(url)\n",
    "    \n",
    "    # implement time delay to avoid data safeguard\n",
    "    time.sleep(1)\n",
    "    \n",
    "    # scrape page into Soup\n",
    "    html = browser.html\n",
    "    soup = bs(html, 'html.parser')\n",
    "    \n",
    "    # making latest news title and latest paragraph variables global so they can be referenced elsewhere later\n",
    "    global latest_title, latest_paragraph\n",
    "    \n",
    "    # get the latest news title\n",
    "    latest_title = soup.find('div', class_='content_title').get_text()\n",
    "    \n",
    "    # get the paragraph text for latest news title\n",
    "    latest_paragraph = soup.find('div', class_='article_teaser_body').get_text()\n",
    "    \n",
    "    # Quit the browser\n",
    "    browser.quit()\n",
    "    \n",
    "    #return title and paragraph\n",
    "    return latest_title, latest_paragraph"
   ]
  },
  {
   "cell_type": "code",
   "execution_count": 3,
   "id": "b7870d24",
   "metadata": {},
   "outputs": [],
   "source": [
    "# create function to scrape the latest mars space image\n",
    "def mars_img_scrape():\n",
    "    # set up splinter\n",
    "    executable_path = {'executable_path': ChromeDriverManager().install()}\n",
    "    browser = Browser('chrome', **executable_path, headless=False)\n",
    "    \n",
    "    # url to scrape\n",
    "    url = 'https://spaceimages-mars.com/'\n",
    "    \n",
    "    # Call visit on our browser and pass in the URL we want to scrape\n",
    "    browser.visit(url)\n",
    "    \n",
    "    # let it sleep for 1 second to work around website safeguard\n",
    "    time.sleep(1)\n",
    "    \n",
    "    # scrape page into soup\n",
    "    html = browser.html\n",
    "    soup = bs(html, 'html.parser')\n",
    "    \n",
    "    # make image url's variable available for reference elsewhere\n",
    "    global featured_image_url\n",
    "    \n",
    "    # scrape url of featured image\n",
    "    featured_image_url = soup.find('img', class_='headerimage fade-in').get('src')\n",
    "    \n",
    "    # close browser after scraping image\n",
    "    browser.quit()\n",
    "    \n",
    "    # concatenate website url with image url for full url string\n",
    "    featured_image_url = f\"{url}{featured_image_url}\"   "
   ]
  },
  {
   "cell_type": "code",
   "execution_count": 16,
   "id": "38fd6c10",
   "metadata": {},
   "outputs": [
    {
     "data": {
      "text/plain": [
       "'<table border=\"1\" class=\"dataframe\">  <thead>    <tr style=\"text-align: right;\">      <th></th>      <th>0</th>      <th>1</th>    </tr>  </thead>  <tbody>    <tr>      <th>0</th>      <td>Equatorial Diameter:</td>      <td>6,792 km</td>    </tr>    <tr>      <th>1</th>      <td>Polar Diameter:</td>      <td>6,752 km</td>    </tr>    <tr>      <th>2</th>      <td>Mass:</td>      <td>6.39 × 10^23 kg (0.11 Earths)</td>    </tr>    <tr>      <th>3</th>      <td>Moons:</td>      <td>2 ( Phobos &amp; Deimos )</td>    </tr>    <tr>      <th>4</th>      <td>Orbit Distance:</td>      <td>227,943,824 km (1.38 AU)</td>    </tr>    <tr>      <th>5</th>      <td>Orbit Period:</td>      <td>687 days (1.9 years)</td>    </tr>    <tr>      <th>6</th>      <td>Surface Temperature:</td>      <td>-87 to -5 °C</td>    </tr>    <tr>      <th>7</th>      <td>First Record:</td>      <td>2nd millennium BC</td>    </tr>    <tr>      <th>8</th>      <td>Recorded By:</td>      <td>Egyptian astronomers</td>    </tr>  </tbody></table>'"
      ]
     },
     "execution_count": 16,
     "metadata": {},
     "output_type": "execute_result"
    }
   ],
   "source": [
    "# use pandas to read tabular html data from Mars Facts Web page\n",
    "url = 'https://galaxyfacts-mars.com/'\n",
    "tables = pd.read_html(url)\n",
    "\n",
    "# indexing only Mars info\n",
    "Mars_Table = tables[1]\n",
    "\n",
    "# convert data to html table string\n",
    "html_table = Mars_Table.to_html()\n",
    "\n",
    "# stripping unwanted new lines\n",
    "html_table = html_table.replace('\\n', '')\n",
    "\n",
    "html_table"
   ]
  },
  {
   "cell_type": "code",
   "execution_count": null,
   "id": "8d2699ae",
   "metadata": {},
   "outputs": [],
   "source": [
    "# create function to scrape the high-res Mars images from the astrogeology site\n",
    "def mars_highres_img_scrape():\n",
    "    # set up splinter\n",
    "    executable_path = {'executable_path': ChromeDriverManager().install()}\n",
    "    browser = Browser('chrome', **executable_path, headless=False)\n",
    "    \n",
    "    # url to scrape\n",
    "    url = 'https://marshemispheres.com/'\n",
    "    \n",
    "    # Call visit on our browser and pass in the URL we want to scrape\n",
    "    browser.visit(url)\n",
    "    \n",
    "    # let it sleep for 1 second to work around website safeguard\n",
    "    time.sleep(1)\n",
    "    \n",
    "    # scrape page into soup\n",
    "    html = browser.html\n",
    "    soup = bs(html, 'html.parser')\n",
    "    \n",
    "    # empty dict for images\n",
    "    hemisphere_image_urls = {}\n",
    "    \n",
    "    # make variable containing dict url containing images available for reference\n",
    "    global hemisphere_image_urls\n",
    "    \n",
    "    # for loop to greab each image\n",
    "    "
   ]
  }
 ],
 "metadata": {
  "kernelspec": {
   "display_name": "Python 3 (ipykernel)",
   "language": "python",
   "name": "python3"
  },
  "language_info": {
   "codemirror_mode": {
    "name": "ipython",
    "version": 3
   },
   "file_extension": ".py",
   "mimetype": "text/x-python",
   "name": "python",
   "nbconvert_exporter": "python",
   "pygments_lexer": "ipython3",
   "version": "3.9.12"
  }
 },
 "nbformat": 4,
 "nbformat_minor": 5
}
