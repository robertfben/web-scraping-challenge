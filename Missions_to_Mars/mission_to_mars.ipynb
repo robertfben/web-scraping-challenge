{
 "cells": [
  {
   "cell_type": "code",
   "execution_count": 2,
   "id": "28d6f423",
   "metadata": {},
   "outputs": [],
   "source": [
    "# import dependencies\n",
    "from splinter import Browser\n",
    "from bs4 import BeautifulSoup as bs\n",
    "import time\n",
    "from webdriver_manager.chrome import ChromeDriverManager\n",
    "import pandas as pd\n",
    "# import re\n",
    "# from selenium import webdriver"
   ]
  },
  {
   "cell_type": "code",
   "execution_count": 6,
   "id": "a81b6a29",
   "metadata": {},
   "outputs": [],
   "source": [
    "# create function to scrape the mars news site for latest news title and paragraph headline\n",
    "def mars_news_scrape():\n",
    "    # set up splinter\n",
    "    executable_path = {'executable_path': ChromeDriverManager().install()}\n",
    "    browser = Browser('chrome', **executable_path, headless=False)\n",
    "    \n",
    "    # visit mars news site\n",
    "    url = 'https://redplanetscience.com/'\n",
    "    browser.visit(url)\n",
    "    \n",
    "    # implement time delay to avoid data safeguard\n",
    "    time.sleep(1)\n",
    "    \n",
    "    # scrape page into Soup\n",
    "    html = browser.html\n",
    "    soup = bs(html, 'html.parser')\n",
    "    \n",
    "    # making latest news title and latest paragraph variables global so they can be referenced elsewhere later\n",
    "    global latest_title, latest_paragraph\n",
    "    \n",
    "    # get the latest news title\n",
    "    latest_title = soup.find('div', class_='content_title').get_text()\n",
    "    \n",
    "    # get the paragraph text for latest news title\n",
    "    latest_paragraph = soup.find('div', class_='article_teaser_body').get_text()\n",
    "    \n",
    "    # Quit the browser\n",
    "    browser.quit()\n",
    "    \n",
    "    #return title and paragraph\n",
    "    return latest_title, latest_paragraph"
   ]
  },
  {
   "cell_type": "code",
   "execution_count": 3,
   "id": "b7870d24",
   "metadata": {},
   "outputs": [],
   "source": [
    "# create function to scrape the latest mars space image\n",
    "def mars_img_scrape():\n",
    "    # set up splinter\n",
    "    executable_path = {'executable_path': ChromeDriverManager().install()}\n",
    "    browser = Browser('chrome', **executable_path, headless=False)\n",
    "    \n",
    "    # url to scrape\n",
    "    url = 'https://spaceimages-mars.com/'\n",
    "    \n",
    "    # Call visit on our browser and pass in the URL we want to scrape\n",
    "    browser.visit(url)\n",
    "    \n",
    "    # let it sleep for 1 second to work around website safeguard\n",
    "    time.sleep(1)\n",
    "    \n",
    "    # scrape page into soup\n",
    "    html = browser.html\n",
    "    soup = bs(html, 'html.parser')\n",
    "    \n",
    "    # make image url's variable available for reference elsewhere\n",
    "    global featured_image_url\n",
    "    \n",
    "    # scrape url of featured image\n",
    "    featured_image_url = soup.find('img', class_='headerimage fade-in').get('src')\n",
    "    \n",
    "    # close browser after scraping image\n",
    "    browser.quit()\n",
    "    \n",
    "    # concatenate website url with image url for full url string\n",
    "    featured_image_url = f\"{url}{featured_image_url}\"   "
   ]
  },
  {
   "cell_type": "code",
   "execution_count": 6,
   "id": "38fd6c10",
   "metadata": {},
   "outputs": [],
   "source": [
    "# use pandas to read tabular html data from Mars Facts Web page\n",
    "tables = pd.read_html('https://galaxyfacts-mars.com/',\n",
    "                     names=[''])\n",
    "\n",
    "# indexing only Mars info\n",
    "Mars_Table = tables[1]\n",
    "\n",
    "# convert data to html table string\n",
    "html_table = Mars_Table.to_html()"
   ]
  },
  {
   "cell_type": "code",
   "execution_count": null,
   "id": "fa1a2c9e",
   "metadata": {},
   "outputs": [],
   "source": []
  }
 ],
 "metadata": {
  "kernelspec": {
   "display_name": "Python 3 (ipykernel)",
   "language": "python",
   "name": "python3"
  },
  "language_info": {
   "codemirror_mode": {
    "name": "ipython",
    "version": 3
   },
   "file_extension": ".py",
   "mimetype": "text/x-python",
   "name": "python",
   "nbconvert_exporter": "python",
   "pygments_lexer": "ipython3",
   "version": "3.9.12"
  }
 },
 "nbformat": 4,
 "nbformat_minor": 5
}
